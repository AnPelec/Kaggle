{
 "cells": [
  {
   "cell_type": "code",
   "execution_count": 40,
   "metadata": {},
   "outputs": [
    {
     "data": {
      "text/plain": [
       "\"\\nSequence Prediction using LSTMs\\n\\nGiven 5 concecutive numbers, predict the next one.\\nI used an LSTM unit with a fully connected feed-forward network at the end, because LSTM only outputs in a smaller range\\n\\nI will try to play around with\\n- batch_size (1, 5, 10, 20)\\n- Dense layer width (1, 3, 5, 10)\\n- optimizer ('adam', 'rmsprop')\\n- loss ('mean_squared_error', 'mean_absolute_error', 'mean_absolute_percentage_error')\\n\""
      ]
     },
     "execution_count": 40,
     "metadata": {},
     "output_type": "execute_result"
    }
   ],
   "source": [
    "\"\"\"\n",
    "Sequence Prediction using LSTMs\n",
    "\n",
    "Given 5 concecutive numbers, predict the next one.\n",
    "I used an LSTM unit with a fully connected feed-forward network at the end, because LSTM only outputs in a smaller range\n",
    "\n",
    "I will try to play around with\n",
    "- batch_size (1, 5, 10, 20)\n",
    "- Dense layer width (1, 3, 5, 10)\n",
    "- optimizer ('adam', 'rmsprop')\n",
    "- loss ('mean_squared_error', 'mean_absolute_error', 'mean_absolute_percentage_error')\n",
    "\"\"\""
   ]
  },
  {
   "cell_type": "code",
   "execution_count": 41,
   "metadata": {},
   "outputs": [],
   "source": [
    "from keras.models import Sequential\n",
    "from keras.layers import LSTM, Dense, Activation\n",
    "\n",
    "import numpy as np\n",
    "\n",
    "# create training, validation and testing datasets\n",
    "\n",
    "x_train = [] # (examples * timestep * input_dim)\n",
    "y_train = [] # (examples * input_dim)\n",
    "for example in range(10000):\n",
    "    temp = np.random.random()*100\n",
    "    x_train.append([[temp], [temp+1], [temp+2], [temp+3], [temp+4]])\n",
    "    y_train.append([temp+5])\n",
    "    \n",
    "x_val = [] # (examples * timestep * input_dim)\n",
    "y_val = [] # (examples * input_dim)\n",
    "for example in range(80):\n",
    "    temp = np.random.random()*100\n",
    "    x_val.append([[temp], [temp+1], [temp+2], [temp+3], [temp+4]])\n",
    "    y_val.append([temp+5])\n",
    "\n",
    "x_test = []\n",
    "for example in range(20): # one batch for testing\n",
    "    x_test.append([[example], [example+1], [example+2], [example+3], [example+4]])\n",
    "\n",
    "x_test = np.array(x_test)\n",
    "x_train = np.array(x_train)\n",
    "x_val = np.array(x_val)\n",
    "y_train = np.array(y_train)\n",
    "y_val = np.array(y_val)"
   ]
  },
  {
   "cell_type": "code",
   "execution_count": 42,
   "metadata": {},
   "outputs": [],
   "source": [
    "def create_model(batch_size, dense_width, optimizer, loss):\n",
    "    timesteps = 5\n",
    "    input_dim = 1\n",
    "\n",
    "    model = Sequential()\n",
    "    model.add(LSTM(1, batch_input_shape=(batch_size, timesteps, input_dim))) #(batch_size, timesteps, input_dim)\n",
    "    # added a hidden layer on top because of the large range of values expected \n",
    "    model.add(Dense(dense_width))\n",
    "    model.add(Dense(1))\n",
    "\n",
    "    model.compile(loss=loss,\n",
    "              optimizer=optimizer) # we skipped metrics\n",
    "    \n",
    "    return model"
   ]
  },
  {
   "cell_type": "code",
   "execution_count": 44,
   "metadata": {},
   "outputs": [
    {
     "name": "stdout",
     "output_type": "stream",
     "text": [
      "Train on 10000 samples, validate on 80 samples\n",
      "Epoch 1/20\n",
      "10000/10000 [==============================] - 122s 12ms/step - loss: 1366.3737 - val_loss: 701.0871\n",
      "Epoch 2/20\n",
      "10000/10000 [==============================] - 122s 12ms/step - loss: 841.0251 - val_loss: 707.1400\n",
      "Epoch 3/20\n",
      "10000/10000 [==============================] - 112s 11ms/step - loss: 841.0390 - val_loss: 700.5072\n",
      "Epoch 4/20\n",
      "10000/10000 [==============================] - 117s 12ms/step - loss: 841.0732 - val_loss: 701.0979\n",
      "Epoch 5/20\n",
      "10000/10000 [==============================] - 109s 11ms/step - loss: 840.5913 - val_loss: 710.0008\n",
      "Epoch 6/20\n",
      "10000/10000 [==============================] - 110s 11ms/step - loss: 841.1693 - val_loss: 707.3729\n",
      "Epoch 7/20\n",
      "10000/10000 [==============================] - 117s 12ms/step - loss: 841.2069 - val_loss: 704.4916\n",
      "Epoch 8/20\n",
      "10000/10000 [==============================] - 151s 15ms/step - loss: 840.9714 - val_loss: 706.0190\n",
      "Epoch 9/20\n",
      "10000/10000 [==============================] - 160s 16ms/step - loss: 841.0868 - val_loss: 702.3241\n",
      "Epoch 10/20\n",
      "10000/10000 [==============================] - 172s 17ms/step - loss: 841.0999 - val_loss: 702.3993\n",
      "Epoch 11/20\n",
      "  404/10000 [>.............................] - ETA: 2:48 - loss: 833.9845"
     ]
    },
    {
     "ename": "KeyboardInterrupt",
     "evalue": "",
     "output_type": "error",
     "traceback": [
      "\u001b[1;31m---------------------------------------------------------------------------\u001b[0m",
      "\u001b[1;31mKeyboardInterrupt\u001b[0m                         Traceback (most recent call last)",
      "\u001b[1;32m<ipython-input-44-5bcca8a3a6cc>\u001b[0m in \u001b[0;36m<module>\u001b[1;34m()\u001b[0m\n\u001b[0;32m      9\u001b[0m model1.fit(x_train, y_train,\n\u001b[0;32m     10\u001b[0m           \u001b[0mbatch_size\u001b[0m\u001b[1;33m=\u001b[0m\u001b[0mbatch_size\u001b[0m\u001b[1;33m,\u001b[0m \u001b[0mepochs\u001b[0m\u001b[1;33m=\u001b[0m\u001b[1;36m20\u001b[0m\u001b[1;33m,\u001b[0m \u001b[0mshuffle\u001b[0m\u001b[1;33m=\u001b[0m\u001b[1;32mTrue\u001b[0m\u001b[1;33m,\u001b[0m\u001b[1;33m\u001b[0m\u001b[0m\n\u001b[1;32m---> 11\u001b[1;33m           validation_data=(x_val, y_val))\n\u001b[0m",
      "\u001b[1;32mc:\\users\\angelos pele\\appdata\\local\\programs\\python\\python36\\lib\\site-packages\\keras\\models.py\u001b[0m in \u001b[0;36mfit\u001b[1;34m(self, x, y, batch_size, epochs, verbose, callbacks, validation_split, validation_data, shuffle, class_weight, sample_weight, initial_epoch, steps_per_epoch, validation_steps, **kwargs)\u001b[0m\n\u001b[0;32m    963\u001b[0m                               \u001b[0minitial_epoch\u001b[0m\u001b[1;33m=\u001b[0m\u001b[0minitial_epoch\u001b[0m\u001b[1;33m,\u001b[0m\u001b[1;33m\u001b[0m\u001b[0m\n\u001b[0;32m    964\u001b[0m                               \u001b[0msteps_per_epoch\u001b[0m\u001b[1;33m=\u001b[0m\u001b[0msteps_per_epoch\u001b[0m\u001b[1;33m,\u001b[0m\u001b[1;33m\u001b[0m\u001b[0m\n\u001b[1;32m--> 965\u001b[1;33m                               validation_steps=validation_steps)\n\u001b[0m\u001b[0;32m    966\u001b[0m \u001b[1;33m\u001b[0m\u001b[0m\n\u001b[0;32m    967\u001b[0m     def evaluate(self, x=None, y=None,\n",
      "\u001b[1;32mc:\\users\\angelos pele\\appdata\\local\\programs\\python\\python36\\lib\\site-packages\\keras\\engine\\training.py\u001b[0m in \u001b[0;36mfit\u001b[1;34m(self, x, y, batch_size, epochs, verbose, callbacks, validation_split, validation_data, shuffle, class_weight, sample_weight, initial_epoch, steps_per_epoch, validation_steps, **kwargs)\u001b[0m\n\u001b[0;32m   1667\u001b[0m                               \u001b[0minitial_epoch\u001b[0m\u001b[1;33m=\u001b[0m\u001b[0minitial_epoch\u001b[0m\u001b[1;33m,\u001b[0m\u001b[1;33m\u001b[0m\u001b[0m\n\u001b[0;32m   1668\u001b[0m                               \u001b[0msteps_per_epoch\u001b[0m\u001b[1;33m=\u001b[0m\u001b[0msteps_per_epoch\u001b[0m\u001b[1;33m,\u001b[0m\u001b[1;33m\u001b[0m\u001b[0m\n\u001b[1;32m-> 1669\u001b[1;33m                               validation_steps=validation_steps)\n\u001b[0m\u001b[0;32m   1670\u001b[0m \u001b[1;33m\u001b[0m\u001b[0m\n\u001b[0;32m   1671\u001b[0m     def evaluate(self, x=None, y=None,\n",
      "\u001b[1;32mc:\\users\\angelos pele\\appdata\\local\\programs\\python\\python36\\lib\\site-packages\\keras\\engine\\training.py\u001b[0m in \u001b[0;36m_fit_loop\u001b[1;34m(self, f, ins, out_labels, batch_size, epochs, verbose, callbacks, val_f, val_ins, shuffle, callback_metrics, initial_epoch, steps_per_epoch, validation_steps)\u001b[0m\n\u001b[0;32m   1204\u001b[0m                         \u001b[0mins_batch\u001b[0m\u001b[1;33m[\u001b[0m\u001b[0mi\u001b[0m\u001b[1;33m]\u001b[0m \u001b[1;33m=\u001b[0m \u001b[0mins_batch\u001b[0m\u001b[1;33m[\u001b[0m\u001b[0mi\u001b[0m\u001b[1;33m]\u001b[0m\u001b[1;33m.\u001b[0m\u001b[0mtoarray\u001b[0m\u001b[1;33m(\u001b[0m\u001b[1;33m)\u001b[0m\u001b[1;33m\u001b[0m\u001b[0m\n\u001b[0;32m   1205\u001b[0m \u001b[1;33m\u001b[0m\u001b[0m\n\u001b[1;32m-> 1206\u001b[1;33m                     \u001b[0mouts\u001b[0m \u001b[1;33m=\u001b[0m \u001b[0mf\u001b[0m\u001b[1;33m(\u001b[0m\u001b[0mins_batch\u001b[0m\u001b[1;33m)\u001b[0m\u001b[1;33m\u001b[0m\u001b[0m\n\u001b[0m\u001b[0;32m   1207\u001b[0m                     \u001b[1;32mif\u001b[0m \u001b[1;32mnot\u001b[0m \u001b[0misinstance\u001b[0m\u001b[1;33m(\u001b[0m\u001b[0mouts\u001b[0m\u001b[1;33m,\u001b[0m \u001b[0mlist\u001b[0m\u001b[1;33m)\u001b[0m\u001b[1;33m:\u001b[0m\u001b[1;33m\u001b[0m\u001b[0m\n\u001b[0;32m   1208\u001b[0m                         \u001b[0mouts\u001b[0m \u001b[1;33m=\u001b[0m \u001b[1;33m[\u001b[0m\u001b[0mouts\u001b[0m\u001b[1;33m]\u001b[0m\u001b[1;33m\u001b[0m\u001b[0m\n",
      "\u001b[1;32mc:\\users\\angelos pele\\appdata\\local\\programs\\python\\python36\\lib\\site-packages\\keras\\backend\\tensorflow_backend.py\u001b[0m in \u001b[0;36m__call__\u001b[1;34m(self, inputs)\u001b[0m\n\u001b[0;32m   2473\u001b[0m         \u001b[0msession\u001b[0m \u001b[1;33m=\u001b[0m \u001b[0mget_session\u001b[0m\u001b[1;33m(\u001b[0m\u001b[1;33m)\u001b[0m\u001b[1;33m\u001b[0m\u001b[0m\n\u001b[0;32m   2474\u001b[0m         updated = session.run(fetches=fetches, feed_dict=feed_dict,\n\u001b[1;32m-> 2475\u001b[1;33m                               **self.session_kwargs)\n\u001b[0m\u001b[0;32m   2476\u001b[0m         \u001b[1;32mreturn\u001b[0m \u001b[0mupdated\u001b[0m\u001b[1;33m[\u001b[0m\u001b[1;33m:\u001b[0m\u001b[0mlen\u001b[0m\u001b[1;33m(\u001b[0m\u001b[0mself\u001b[0m\u001b[1;33m.\u001b[0m\u001b[0moutputs\u001b[0m\u001b[1;33m)\u001b[0m\u001b[1;33m]\u001b[0m\u001b[1;33m\u001b[0m\u001b[0m\n\u001b[0;32m   2477\u001b[0m \u001b[1;33m\u001b[0m\u001b[0m\n",
      "\u001b[1;32mc:\\users\\angelos pele\\appdata\\local\\programs\\python\\python36\\lib\\site-packages\\tensorflow\\python\\client\\session.py\u001b[0m in \u001b[0;36mrun\u001b[1;34m(self, fetches, feed_dict, options, run_metadata)\u001b[0m\n\u001b[0;32m    903\u001b[0m     \u001b[1;32mtry\u001b[0m\u001b[1;33m:\u001b[0m\u001b[1;33m\u001b[0m\u001b[0m\n\u001b[0;32m    904\u001b[0m       result = self._run(None, fetches, feed_dict, options_ptr,\n\u001b[1;32m--> 905\u001b[1;33m                          run_metadata_ptr)\n\u001b[0m\u001b[0;32m    906\u001b[0m       \u001b[1;32mif\u001b[0m \u001b[0mrun_metadata\u001b[0m\u001b[1;33m:\u001b[0m\u001b[1;33m\u001b[0m\u001b[0m\n\u001b[0;32m    907\u001b[0m         \u001b[0mproto_data\u001b[0m \u001b[1;33m=\u001b[0m \u001b[0mtf_session\u001b[0m\u001b[1;33m.\u001b[0m\u001b[0mTF_GetBuffer\u001b[0m\u001b[1;33m(\u001b[0m\u001b[0mrun_metadata_ptr\u001b[0m\u001b[1;33m)\u001b[0m\u001b[1;33m\u001b[0m\u001b[0m\n",
      "\u001b[1;32mc:\\users\\angelos pele\\appdata\\local\\programs\\python\\python36\\lib\\site-packages\\tensorflow\\python\\client\\session.py\u001b[0m in \u001b[0;36m_run\u001b[1;34m(self, handle, fetches, feed_dict, options, run_metadata)\u001b[0m\n\u001b[0;32m   1135\u001b[0m     \u001b[1;32mif\u001b[0m \u001b[0mfinal_fetches\u001b[0m \u001b[1;32mor\u001b[0m \u001b[0mfinal_targets\u001b[0m \u001b[1;32mor\u001b[0m \u001b[1;33m(\u001b[0m\u001b[0mhandle\u001b[0m \u001b[1;32mand\u001b[0m \u001b[0mfeed_dict_tensor\u001b[0m\u001b[1;33m)\u001b[0m\u001b[1;33m:\u001b[0m\u001b[1;33m\u001b[0m\u001b[0m\n\u001b[0;32m   1136\u001b[0m       results = self._do_run(handle, final_targets, final_fetches,\n\u001b[1;32m-> 1137\u001b[1;33m                              feed_dict_tensor, options, run_metadata)\n\u001b[0m\u001b[0;32m   1138\u001b[0m     \u001b[1;32melse\u001b[0m\u001b[1;33m:\u001b[0m\u001b[1;33m\u001b[0m\u001b[0m\n\u001b[0;32m   1139\u001b[0m       \u001b[0mresults\u001b[0m \u001b[1;33m=\u001b[0m \u001b[1;33m[\u001b[0m\u001b[1;33m]\u001b[0m\u001b[1;33m\u001b[0m\u001b[0m\n",
      "\u001b[1;32mc:\\users\\angelos pele\\appdata\\local\\programs\\python\\python36\\lib\\site-packages\\tensorflow\\python\\client\\session.py\u001b[0m in \u001b[0;36m_do_run\u001b[1;34m(self, handle, target_list, fetch_list, feed_dict, options, run_metadata)\u001b[0m\n\u001b[0;32m   1353\u001b[0m     \u001b[1;32mif\u001b[0m \u001b[0mhandle\u001b[0m \u001b[1;32mis\u001b[0m \u001b[1;32mNone\u001b[0m\u001b[1;33m:\u001b[0m\u001b[1;33m\u001b[0m\u001b[0m\n\u001b[0;32m   1354\u001b[0m       return self._do_call(_run_fn, self._session, feeds, fetches, targets,\n\u001b[1;32m-> 1355\u001b[1;33m                            options, run_metadata)\n\u001b[0m\u001b[0;32m   1356\u001b[0m     \u001b[1;32melse\u001b[0m\u001b[1;33m:\u001b[0m\u001b[1;33m\u001b[0m\u001b[0m\n\u001b[0;32m   1357\u001b[0m       \u001b[1;32mreturn\u001b[0m \u001b[0mself\u001b[0m\u001b[1;33m.\u001b[0m\u001b[0m_do_call\u001b[0m\u001b[1;33m(\u001b[0m\u001b[0m_prun_fn\u001b[0m\u001b[1;33m,\u001b[0m \u001b[0mself\u001b[0m\u001b[1;33m.\u001b[0m\u001b[0m_session\u001b[0m\u001b[1;33m,\u001b[0m \u001b[0mhandle\u001b[0m\u001b[1;33m,\u001b[0m \u001b[0mfeeds\u001b[0m\u001b[1;33m,\u001b[0m \u001b[0mfetches\u001b[0m\u001b[1;33m)\u001b[0m\u001b[1;33m\u001b[0m\u001b[0m\n",
      "\u001b[1;32mc:\\users\\angelos pele\\appdata\\local\\programs\\python\\python36\\lib\\site-packages\\tensorflow\\python\\client\\session.py\u001b[0m in \u001b[0;36m_do_call\u001b[1;34m(self, fn, *args)\u001b[0m\n\u001b[0;32m   1359\u001b[0m   \u001b[1;32mdef\u001b[0m \u001b[0m_do_call\u001b[0m\u001b[1;33m(\u001b[0m\u001b[0mself\u001b[0m\u001b[1;33m,\u001b[0m \u001b[0mfn\u001b[0m\u001b[1;33m,\u001b[0m \u001b[1;33m*\u001b[0m\u001b[0margs\u001b[0m\u001b[1;33m)\u001b[0m\u001b[1;33m:\u001b[0m\u001b[1;33m\u001b[0m\u001b[0m\n\u001b[0;32m   1360\u001b[0m     \u001b[1;32mtry\u001b[0m\u001b[1;33m:\u001b[0m\u001b[1;33m\u001b[0m\u001b[0m\n\u001b[1;32m-> 1361\u001b[1;33m       \u001b[1;32mreturn\u001b[0m \u001b[0mfn\u001b[0m\u001b[1;33m(\u001b[0m\u001b[1;33m*\u001b[0m\u001b[0margs\u001b[0m\u001b[1;33m)\u001b[0m\u001b[1;33m\u001b[0m\u001b[0m\n\u001b[0m\u001b[0;32m   1362\u001b[0m     \u001b[1;32mexcept\u001b[0m \u001b[0merrors\u001b[0m\u001b[1;33m.\u001b[0m\u001b[0mOpError\u001b[0m \u001b[1;32mas\u001b[0m \u001b[0me\u001b[0m\u001b[1;33m:\u001b[0m\u001b[1;33m\u001b[0m\u001b[0m\n\u001b[0;32m   1363\u001b[0m       \u001b[0mmessage\u001b[0m \u001b[1;33m=\u001b[0m \u001b[0mcompat\u001b[0m\u001b[1;33m.\u001b[0m\u001b[0mas_text\u001b[0m\u001b[1;33m(\u001b[0m\u001b[0me\u001b[0m\u001b[1;33m.\u001b[0m\u001b[0mmessage\u001b[0m\u001b[1;33m)\u001b[0m\u001b[1;33m\u001b[0m\u001b[0m\n",
      "\u001b[1;32mc:\\users\\angelos pele\\appdata\\local\\programs\\python\\python36\\lib\\site-packages\\tensorflow\\python\\client\\session.py\u001b[0m in \u001b[0;36m_run_fn\u001b[1;34m(session, feed_dict, fetch_list, target_list, options, run_metadata)\u001b[0m\n\u001b[0;32m   1338\u001b[0m         \u001b[1;32melse\u001b[0m\u001b[1;33m:\u001b[0m\u001b[1;33m\u001b[0m\u001b[0m\n\u001b[0;32m   1339\u001b[0m           return tf_session.TF_Run(session, options, feed_dict, fetch_list,\n\u001b[1;32m-> 1340\u001b[1;33m                                    target_list, status, run_metadata)\n\u001b[0m\u001b[0;32m   1341\u001b[0m \u001b[1;33m\u001b[0m\u001b[0m\n\u001b[0;32m   1342\u001b[0m     \u001b[1;32mdef\u001b[0m \u001b[0m_prun_fn\u001b[0m\u001b[1;33m(\u001b[0m\u001b[0msession\u001b[0m\u001b[1;33m,\u001b[0m \u001b[0mhandle\u001b[0m\u001b[1;33m,\u001b[0m \u001b[0mfeed_dict\u001b[0m\u001b[1;33m,\u001b[0m \u001b[0mfetch_list\u001b[0m\u001b[1;33m)\u001b[0m\u001b[1;33m:\u001b[0m\u001b[1;33m\u001b[0m\u001b[0m\n",
      "\u001b[1;31mKeyboardInterrupt\u001b[0m: "
     ]
    }
   ],
   "source": [
    "batch_sizes = (1, 5, 10, 20)\n",
    "dense_widths = (1, 3, 5, 10)\n",
    "optimizers = ('adam', 'rmsprop')\n",
    "loss = ('mean_squared_error', 'mean_absolute_error', 'mean_absolute_percentage_error')\n",
    "\n",
    "batch_size = 1\n",
    "model1 = create_model(1, 1, 'adam', 'mean_squared_error')\n",
    "\n",
    "model1.fit(x_train, y_train,\n",
    "          batch_size=batch_size, epochs=20, shuffle=True,\n",
    "          validation_data=(x_val, y_val))"
   ]
  },
  {
   "cell_type": "code",
   "execution_count": 45,
   "metadata": {},
   "outputs": [
    {
     "name": "stdout",
     "output_type": "stream",
     "text": [
      "Train on 10000 samples, validate on 80 samples\n",
      "Epoch 1/20\n",
      "10000/10000 [==============================] - 7s 701us/step - loss: 3725.7585 - val_loss: 3643.4198\n",
      "Epoch 2/20\n",
      "10000/10000 [==============================] - 6s 580us/step - loss: 3254.2169 - val_loss: 3023.3349\n",
      "Epoch 3/20\n",
      "10000/10000 [==============================] - 6s 593us/step - loss: 2598.3104 - val_loss: 2294.2261\n",
      "Epoch 4/20\n",
      "10000/10000 [==============================] - 6s 578us/step - loss: 1915.4068 - val_loss: 1605.2394\n",
      "Epoch 5/20\n",
      "10000/10000 [==============================] - 6s 581us/step - loss: 1315.8963 - val_loss: 1041.9621\n",
      "Epoch 6/20\n",
      "10000/10000 [==============================] - 6s 582us/step - loss: 848.4874 - val_loss: 633.9693\n",
      "Epoch 7/20\n",
      "10000/10000 [==============================] - 6s 587us/step - loss: 515.6396 - val_loss: 365.0637\n",
      "Epoch 8/20\n",
      "10000/10000 [==============================] - 6s 588us/step - loss: 296.8917 - val_loss: 201.9478\n",
      "Epoch 9/20\n",
      "10000/10000 [==============================] - 6s 584us/step - loss: 163.4268 - val_loss: 107.3260\n",
      "Epoch 10/20\n",
      "10000/10000 [==============================] - 6s 586us/step - loss: 86.8316 - val_loss: 53.8240\n",
      "Epoch 11/20\n",
      "10000/10000 [==============================] - 6s 603us/step - loss: 45.0991 - val_loss: 26.1574\n",
      "Epoch 12/20\n",
      "10000/10000 [==============================] - 6s 603us/step - loss: 23.4343 - val_loss: 13.2273\n",
      "Epoch 13/20\n",
      "10000/10000 [==============================] - 6s 638us/step - loss: 12.4966 - val_loss: 7.0715\n",
      "Epoch 14/20\n",
      "10000/10000 [==============================] - 6s 602us/step - loss: 6.8671 - val_loss: 3.8755\n",
      "Epoch 15/20\n",
      "10000/10000 [==============================] - 6s 593us/step - loss: 4.1125 - val_loss: 2.2187\n",
      "Epoch 16/20\n",
      "10000/10000 [==============================] - 6s 580us/step - loss: 2.6821 - val_loss: 1.4213\n",
      "Epoch 17/20\n",
      "10000/10000 [==============================] - 6s 585us/step - loss: 1.8932 - val_loss: 1.1754\n",
      "Epoch 18/20\n",
      "10000/10000 [==============================] - 6s 584us/step - loss: 1.4071 - val_loss: 0.7585\n",
      "Epoch 19/20\n",
      "10000/10000 [==============================] - 6s 579us/step - loss: 1.1309 - val_loss: 0.6381\n",
      "Epoch 20/20\n",
      "10000/10000 [==============================] - 6s 590us/step - loss: 0.9149 - val_loss: 0.5434\n"
     ]
    },
    {
     "data": {
      "text/plain": [
       "<keras.callbacks.History at 0x2a4979fa2e8>"
      ]
     },
     "execution_count": 45,
     "metadata": {},
     "output_type": "execute_result"
    }
   ],
   "source": [
    "batch_size = 20\n",
    "model1 = create_model(batch_size, 1, 'adam', 'mean_squared_error')\n",
    "\n",
    "model1.fit(x_train, y_train,\n",
    "          batch_size=batch_size, epochs=20, shuffle=True,\n",
    "          validation_data=(x_val, y_val))"
   ]
  },
  {
   "cell_type": "code",
   "execution_count": 46,
   "metadata": {},
   "outputs": [
    {
     "data": {
      "text/plain": [
       "array([[ 6.9220033],\n",
       "       [ 7.7155104],\n",
       "       [ 8.910839 ],\n",
       "       [ 9.862392 ],\n",
       "       [10.702709 ],\n",
       "       [11.4645405],\n",
       "       [12.226768 ],\n",
       "       [12.977165 ],\n",
       "       [13.743275 ],\n",
       "       [14.524788 ],\n",
       "       [15.321396 ],\n",
       "       [16.132753 ],\n",
       "       [16.958511 ],\n",
       "       [17.798294 ],\n",
       "       [18.651726 ],\n",
       "       [19.518404 ],\n",
       "       [20.397928 ],\n",
       "       [21.289875 ],\n",
       "       [22.193832 ],\n",
       "       [23.109358 ]], dtype=float32)"
      ]
     },
     "execution_count": 46,
     "metadata": {},
     "output_type": "execute_result"
    }
   ],
   "source": [
    "model1.predict(x_test)"
   ]
  },
  {
   "cell_type": "code",
   "execution_count": 47,
   "metadata": {},
   "outputs": [
    {
     "name": "stdout",
     "output_type": "stream",
     "text": [
      "Train on 10000 samples, validate on 80 samples\n",
      "Epoch 1/20\n",
      "10000/10000 [==============================] - 13s 1ms/step - loss: 3461.8290 - val_loss: 2978.1877\n",
      "Epoch 2/20\n",
      "10000/10000 [==============================] - 12s 1ms/step - loss: 2241.1067 - val_loss: 1628.4883\n",
      "Epoch 3/20\n",
      "10000/10000 [==============================] - 12s 1ms/step - loss: 1238.0906 - val_loss: 884.3429\n",
      "Epoch 4/20\n",
      "10000/10000 [==============================] - 12s 1ms/step - loss: 883.6022 - val_loss: 718.5299\n",
      "Epoch 5/20\n",
      "10000/10000 [==============================] - 12s 1ms/step - loss: 841.7996 - val_loss: 703.3144\n",
      "Epoch 6/20\n",
      "10000/10000 [==============================] - 13s 1ms/step - loss: 840.5288 - val_loss: 704.8948\n",
      "Epoch 7/20\n",
      "10000/10000 [==============================] - 12s 1ms/step - loss: 840.7133 - val_loss: 703.7210\n",
      "Epoch 8/20\n",
      "10000/10000 [==============================] - 12s 1ms/step - loss: 840.6677 - val_loss: 703.0326\n",
      "Epoch 9/20\n",
      "10000/10000 [==============================] - 12s 1ms/step - loss: 840.6819 - val_loss: 702.8788\n",
      "Epoch 10/20\n",
      "10000/10000 [==============================] - 12s 1ms/step - loss: 840.6719 - val_loss: 702.2418\n",
      "Epoch 11/20\n",
      "10000/10000 [==============================] - 12s 1ms/step - loss: 840.6933 - val_loss: 702.5707\n",
      "Epoch 12/20\n",
      "10000/10000 [==============================] - 12s 1ms/step - loss: 840.6717 - val_loss: 702.4228\n",
      "Epoch 13/20\n",
      "10000/10000 [==============================] - 12s 1ms/step - loss: 840.6204 - val_loss: 704.0955\n",
      "Epoch 14/20\n",
      "10000/10000 [==============================] - 12s 1ms/step - loss: 840.6800 - val_loss: 702.3865\n",
      "Epoch 15/20\n",
      "10000/10000 [==============================] - 12s 1ms/step - loss: 840.7130 - val_loss: 701.3854\n",
      "Epoch 16/20\n",
      "10000/10000 [==============================] - 12s 1ms/step - loss: 840.7141 - val_loss: 702.3090\n",
      "Epoch 17/20\n",
      "10000/10000 [==============================] - 12s 1ms/step - loss: 840.6096 - val_loss: 701.3507\n",
      "Epoch 18/20\n",
      "10000/10000 [==============================] - 12s 1ms/step - loss: 840.6817 - val_loss: 702.7415\n",
      "Epoch 19/20\n",
      "10000/10000 [==============================] - 12s 1ms/step - loss: 840.6782 - val_loss: 701.9892\n",
      "Epoch 20/20\n",
      "10000/10000 [==============================] - 13s 1ms/step - loss: 840.6832 - val_loss: 701.6922\n"
     ]
    },
    {
     "data": {
      "text/plain": [
       "<keras.callbacks.History at 0x2a4984ab898>"
      ]
     },
     "execution_count": 47,
     "metadata": {},
     "output_type": "execute_result"
    }
   ],
   "source": [
    "batch_size = 10\n",
    "model1 = create_model(batch_size, 1, 'adam', 'mean_squared_error')\n",
    "\n",
    "model1.fit(x_train, y_train,\n",
    "          batch_size=batch_size, epochs=20, shuffle=True,\n",
    "          validation_data=(x_val, y_val))"
   ]
  },
  {
   "cell_type": "code",
   "execution_count": 49,
   "metadata": {},
   "outputs": [
    {
     "data": {
      "text/plain": [
       "array([[55.153145],\n",
       "       [55.153145],\n",
       "       [55.153145],\n",
       "       [55.153145],\n",
       "       [55.153145],\n",
       "       [55.153145],\n",
       "       [55.153145],\n",
       "       [55.153145],\n",
       "       [55.153145],\n",
       "       [55.153145]], dtype=float32)"
      ]
     },
     "execution_count": 49,
     "metadata": {},
     "output_type": "execute_result"
    }
   ],
   "source": [
    "model1.predict(x_test[:10])"
   ]
  },
  {
   "cell_type": "code",
   "execution_count": 51,
   "metadata": {},
   "outputs": [
    {
     "name": "stdout",
     "output_type": "stream",
     "text": [
      "Train on 10000 samples, validate on 80 samples\n",
      "Epoch 1/20\n",
      "10000/10000 [==============================] - 12s 1ms/step - loss: 3534.3033 - val_loss: 3166.2296\n",
      "Epoch 2/20\n",
      "10000/10000 [==============================] - 11s 1ms/step - loss: 2426.6329 - val_loss: 1741.4872\n",
      "Epoch 3/20\n",
      "10000/10000 [==============================] - 11s 1ms/step - loss: 1109.3155 - val_loss: 542.7611\n",
      "Epoch 4/20\n",
      "10000/10000 [==============================] - 11s 1ms/step - loss: 260.2663 - val_loss: 60.6958\n",
      "Epoch 5/20\n",
      "10000/10000 [==============================] - 13s 1ms/step - loss: 29.1671 - val_loss: 16.9200\n",
      "Epoch 6/20\n",
      "10000/10000 [==============================] - 13s 1ms/step - loss: 9.4853 - val_loss: 4.9907\n",
      "Epoch 7/20\n",
      "10000/10000 [==============================] - 12s 1ms/step - loss: 6.1553 - val_loss: 4.2110\n",
      "Epoch 8/20\n",
      "10000/10000 [==============================] - 11s 1ms/step - loss: 4.9366 - val_loss: 3.1286\n",
      "Epoch 9/20\n",
      "10000/10000 [==============================] - 11s 1ms/step - loss: 3.7030 - val_loss: 3.5486\n",
      "Epoch 10/20\n",
      "10000/10000 [==============================] - 11s 1ms/step - loss: 2.8268 - val_loss: 1.2393\n",
      "Epoch 11/20\n",
      "10000/10000 [==============================] - 11s 1ms/step - loss: 2.6135 - val_loss: 0.7485\n",
      "Epoch 12/20\n",
      "10000/10000 [==============================] - 11s 1ms/step - loss: 2.5365 - val_loss: 1.3897\n",
      "Epoch 13/20\n",
      "10000/10000 [==============================] - 11s 1ms/step - loss: 2.4773 - val_loss: 3.3617\n",
      "Epoch 14/20\n",
      "10000/10000 [==============================] - 11s 1ms/step - loss: 2.4081 - val_loss: 0.8409\n",
      "Epoch 15/20\n",
      "10000/10000 [==============================] - 11s 1ms/step - loss: 2.3609 - val_loss: 2.1239\n",
      "Epoch 16/20\n",
      "10000/10000 [==============================] - 12s 1ms/step - loss: 2.3204 - val_loss: 2.2697\n",
      "Epoch 17/20\n",
      "10000/10000 [==============================] - 12s 1ms/step - loss: 2.3878 - val_loss: 4.8988\n",
      "Epoch 18/20\n",
      "10000/10000 [==============================] - 12s 1ms/step - loss: 2.3259 - val_loss: 2.6797\n",
      "Epoch 19/20\n",
      "10000/10000 [==============================] - 12s 1ms/step - loss: 2.2493 - val_loss: 1.1045\n",
      "Epoch 20/20\n",
      "10000/10000 [==============================] - 12s 1ms/step - loss: 2.3056 - val_loss: 1.1988\n"
     ]
    },
    {
     "data": {
      "text/plain": [
       "<keras.callbacks.History at 0x2a49c0be3c8>"
      ]
     },
     "execution_count": 51,
     "metadata": {},
     "output_type": "execute_result"
    }
   ],
   "source": [
    "batch_size = 10\n",
    "model1 = create_model(batch_size, 1, 'rmsprop', 'mean_squared_error')\n",
    "\n",
    "model1.fit(x_train, y_train,\n",
    "          batch_size=batch_size, epochs=20, shuffle=True,\n",
    "          validation_data=(x_val, y_val))"
   ]
  },
  {
   "cell_type": "code",
   "execution_count": 52,
   "metadata": {},
   "outputs": [
    {
     "data": {
      "text/plain": [
       "array([[ 6.650261 ],\n",
       "       [ 6.7518044],\n",
       "       [ 7.6232786],\n",
       "       [ 8.475551 ],\n",
       "       [ 9.325229 ],\n",
       "       [10.181229 ],\n",
       "       [11.0598545],\n",
       "       [11.970317 ],\n",
       "       [12.914243 ],\n",
       "       [13.888126 ]], dtype=float32)"
      ]
     },
     "execution_count": 52,
     "metadata": {},
     "output_type": "execute_result"
    }
   ],
   "source": [
    "model1.predict(x_test[:10])"
   ]
  },
  {
   "cell_type": "code",
   "execution_count": 53,
   "metadata": {},
   "outputs": [
    {
     "name": "stdout",
     "output_type": "stream",
     "text": [
      "Train on 10000 samples, validate on 80 samples\n",
      "Epoch 1/20\n",
      "10000/10000 [==============================] - 13s 1ms/step - loss: 3353.8938 - val_loss: 2831.6121\n",
      "Epoch 2/20\n",
      "10000/10000 [==============================] - 12s 1ms/step - loss: 2037.2292 - val_loss: 1310.1888\n",
      "Epoch 3/20\n",
      "10000/10000 [==============================] - 12s 1ms/step - loss: 782.3835 - val_loss: 248.8471\n",
      "Epoch 4/20\n",
      "10000/10000 [==============================] - 12s 1ms/step - loss: 85.7574 - val_loss: 6.4520\n",
      "Epoch 5/20\n",
      "10000/10000 [==============================] - 12s 1ms/step - loss: 4.4110 - val_loss: 3.0019\n",
      "Epoch 6/20\n",
      "10000/10000 [==============================] - 12s 1ms/step - loss: 2.8326 - val_loss: 6.4993\n",
      "Epoch 7/20\n",
      "10000/10000 [==============================] - 12s 1ms/step - loss: 2.5485 - val_loss: 1.7248\n",
      "Epoch 8/20\n",
      "10000/10000 [==============================] - 12s 1ms/step - loss: 2.4215 - val_loss: 0.4524\n",
      "Epoch 9/20\n",
      "10000/10000 [==============================] - 12s 1ms/step - loss: 2.3647 - val_loss: 2.1428\n",
      "Epoch 10/20\n",
      "10000/10000 [==============================] - 12s 1ms/step - loss: 2.2665 - val_loss: 5.1075\n",
      "Epoch 11/20\n",
      "10000/10000 [==============================] - 12s 1ms/step - loss: 2.2200 - val_loss: 8.0973\n",
      "Epoch 12/20\n",
      "10000/10000 [==============================] - 12s 1ms/step - loss: 2.0922 - val_loss: 1.7843\n",
      "Epoch 13/20\n",
      "10000/10000 [==============================] - 12s 1ms/step - loss: 2.0173 - val_loss: 0.3342\n",
      "Epoch 14/20\n",
      "10000/10000 [==============================] - 12s 1ms/step - loss: 1.9443 - val_loss: 3.4764\n",
      "Epoch 15/20\n",
      "10000/10000 [==============================] - 12s 1ms/step - loss: 1.8792 - val_loss: 2.1860\n",
      "Epoch 16/20\n",
      "10000/10000 [==============================] - 12s 1ms/step - loss: 1.8309 - val_loss: 0.1941\n",
      "Epoch 17/20\n",
      "10000/10000 [==============================] - 12s 1ms/step - loss: 1.7927 - val_loss: 0.6045\n",
      "Epoch 18/20\n",
      "10000/10000 [==============================] - 12s 1ms/step - loss: 1.7709 - val_loss: 0.5604\n",
      "Epoch 19/20\n",
      "10000/10000 [==============================] - 12s 1ms/step - loss: 1.6704 - val_loss: 0.4055\n",
      "Epoch 20/20\n",
      "10000/10000 [==============================] - 12s 1ms/step - loss: 1.6654 - val_loss: 0.1448\n"
     ]
    },
    {
     "data": {
      "text/plain": [
       "<keras.callbacks.History at 0x2a49cab8b38>"
      ]
     },
     "execution_count": 53,
     "metadata": {},
     "output_type": "execute_result"
    }
   ],
   "source": [
    "batch_size = 10\n",
    "model1 = create_model(batch_size, 3, 'rmsprop', 'mean_squared_error')\n",
    "\n",
    "model1.fit(x_train, y_train,\n",
    "          batch_size=batch_size, epochs=20, shuffle=True,\n",
    "          validation_data=(x_val, y_val))"
   ]
  },
  {
   "cell_type": "code",
   "execution_count": 54,
   "metadata": {},
   "outputs": [
    {
     "data": {
      "text/plain": [
       "array([[ 4.3492937],\n",
       "       [ 6.6462154],\n",
       "       [ 7.57467  ],\n",
       "       [ 7.9102955],\n",
       "       [ 8.607642 ],\n",
       "       [ 9.564816 ],\n",
       "       [10.595474 ],\n",
       "       [11.641147 ],\n",
       "       [12.688025 ],\n",
       "       [13.731581 ]], dtype=float32)"
      ]
     },
     "execution_count": 54,
     "metadata": {},
     "output_type": "execute_result"
    }
   ],
   "source": [
    "model1.predict(x_test[:10])"
   ]
  },
  {
   "cell_type": "code",
   "execution_count": 55,
   "metadata": {},
   "outputs": [
    {
     "name": "stdout",
     "output_type": "stream",
     "text": [
      "Train on 10000 samples, validate on 80 samples\n",
      "Epoch 1/20\n",
      "10000/10000 [==============================] - 13s 1ms/step - loss: 52.2679 - val_loss: 50.9538\n",
      "Epoch 2/20\n",
      "10000/10000 [==============================] - 12s 1ms/step - loss: 43.5758 - val_loss: 39.8384\n",
      "Epoch 3/20\n",
      "10000/10000 [==============================] - 12s 1ms/step - loss: 32.6383 - val_loss: 27.5112\n",
      "Epoch 4/20\n",
      "10000/10000 [==============================] - 12s 1ms/step - loss: 21.8242 - val_loss: 15.5005\n",
      "Epoch 5/20\n",
      "10000/10000 [==============================] - 12s 1ms/step - loss: 11.9216 - val_loss: 7.5520\n",
      "Epoch 6/20\n",
      "10000/10000 [==============================] - 12s 1ms/step - loss: 6.7448 - val_loss: 4.1973\n",
      "Epoch 7/20\n",
      "10000/10000 [==============================] - 12s 1ms/step - loss: 4.2141 - val_loss: 2.6901\n",
      "Epoch 8/20\n",
      "10000/10000 [==============================] - 12s 1ms/step - loss: 2.7822 - val_loss: 2.3130\n",
      "Epoch 9/20\n",
      "10000/10000 [==============================] - 12s 1ms/step - loss: 1.9511 - val_loss: 1.6549\n",
      "Epoch 10/20\n",
      "10000/10000 [==============================] - 12s 1ms/step - loss: 1.4558 - val_loss: 1.3123\n",
      "Epoch 11/20\n",
      "10000/10000 [==============================] - 12s 1ms/step - loss: 1.1580 - val_loss: 0.5932\n",
      "Epoch 12/20\n",
      "10000/10000 [==============================] - 12s 1ms/step - loss: 0.9903 - val_loss: 0.9601\n",
      "Epoch 13/20\n",
      "10000/10000 [==============================] - 12s 1ms/step - loss: 0.8989 - val_loss: 0.4258\n",
      "Epoch 14/20\n",
      "10000/10000 [==============================] - 12s 1ms/step - loss: 0.8426 - val_loss: 0.7627\n",
      "Epoch 15/20\n",
      "10000/10000 [==============================] - 12s 1ms/step - loss: 0.8146 - val_loss: 0.3301\n",
      "Epoch 16/20\n",
      "10000/10000 [==============================] - 12s 1ms/step - loss: 0.7958 - val_loss: 0.5452\n",
      "Epoch 17/20\n",
      "10000/10000 [==============================] - 12s 1ms/step - loss: 0.7850 - val_loss: 0.7413\n",
      "Epoch 18/20\n",
      "10000/10000 [==============================] - 12s 1ms/step - loss: 0.7786 - val_loss: 0.2655\n",
      "Epoch 19/20\n",
      "10000/10000 [==============================] - 12s 1ms/step - loss: 0.7705 - val_loss: 0.1402\n",
      "Epoch 20/20\n",
      "10000/10000 [==============================] - 13s 1ms/step - loss: 0.7680 - val_loss: 1.4483\n"
     ]
    },
    {
     "data": {
      "text/plain": [
       "<keras.callbacks.History at 0x2a49f381978>"
      ]
     },
     "execution_count": 55,
     "metadata": {},
     "output_type": "execute_result"
    }
   ],
   "source": [
    "batch_size = 10\n",
    "model1 = create_model(batch_size, 3, 'rmsprop', 'mean_absolute_error')\n",
    "\n",
    "model1.fit(x_train, y_train,\n",
    "          batch_size=batch_size, epochs=20, shuffle=True,\n",
    "          validation_data=(x_val, y_val))"
   ]
  },
  {
   "cell_type": "code",
   "execution_count": 56,
   "metadata": {},
   "outputs": [
    {
     "data": {
      "text/plain": [
       "array([[ 5.825353],\n",
       "       [ 6.115031],\n",
       "       [ 7.142874],\n",
       "       [ 8.170712],\n",
       "       [ 9.198555],\n",
       "       [10.226398],\n",
       "       [11.254238],\n",
       "       [12.282081],\n",
       "       [13.309918],\n",
       "       [14.337771]], dtype=float32)"
      ]
     },
     "execution_count": 56,
     "metadata": {},
     "output_type": "execute_result"
    }
   ],
   "source": [
    "model1.predict(x_test[:10])"
   ]
  },
  {
   "cell_type": "code",
   "execution_count": 57,
   "metadata": {},
   "outputs": [
    {
     "name": "stdout",
     "output_type": "stream",
     "text": [
      "Train on 10000 samples, validate on 80 samples\n",
      "Epoch 1/20\n",
      "10000/10000 [==============================] - 13s 1ms/step - loss: 91.7810 - val_loss: 84.5428\n",
      "Epoch 2/20\n",
      "10000/10000 [==============================] - 12s 1ms/step - loss: 72.9053 - val_loss: 66.1958\n",
      "Epoch 3/20\n",
      "10000/10000 [==============================] - 14s 1ms/step - loss: 59.1821 - val_loss: 52.3124\n",
      "Epoch 4/20\n",
      "10000/10000 [==============================] - 13s 1ms/step - loss: 47.3963 - val_loss: 41.5138\n",
      "Epoch 5/20\n",
      "10000/10000 [==============================] - 11s 1ms/step - loss: 38.1171 - val_loss: 32.3997\n",
      "Epoch 6/20\n",
      "10000/10000 [==============================] - 11s 1ms/step - loss: 31.3780 - val_loss: 25.5301\n",
      "Epoch 7/20\n",
      "10000/10000 [==============================] - 11s 1ms/step - loss: 25.8414 - val_loss: 20.4887\n",
      "Epoch 8/20\n",
      "10000/10000 [==============================] - 12s 1ms/step - loss: 21.0613 - val_loss: 15.6100\n",
      "Epoch 9/20\n",
      "10000/10000 [==============================] - 12s 1ms/step - loss: 16.9737 - val_loss: 13.3507\n",
      "Epoch 10/20\n",
      "10000/10000 [==============================] - 12s 1ms/step - loss: 13.2366 - val_loss: 10.5125\n",
      "Epoch 11/20\n",
      "10000/10000 [==============================] - 12s 1ms/step - loss: 10.0910 - val_loss: 8.6096\n",
      "Epoch 12/20\n",
      "10000/10000 [==============================] - 12s 1ms/step - loss: 8.0471 - val_loss: 6.2419\n",
      "Epoch 13/20\n",
      "10000/10000 [==============================] - 12s 1ms/step - loss: 6.8137 - val_loss: 5.3386\n",
      "Epoch 14/20\n",
      "10000/10000 [==============================] - 12s 1ms/step - loss: 6.1104 - val_loss: 4.6441\n",
      "Epoch 15/20\n",
      "10000/10000 [==============================] - 12s 1ms/step - loss: 5.6198 - val_loss: 5.8695\n",
      "Epoch 16/20\n",
      "10000/10000 [==============================] - 12s 1ms/step - loss: 5.3123 - val_loss: 4.6498\n",
      "Epoch 17/20\n",
      "10000/10000 [==============================] - 12s 1ms/step - loss: 5.1137 - val_loss: 3.8594\n",
      "Epoch 18/20\n",
      "10000/10000 [==============================] - 12s 1ms/step - loss: 4.9848 - val_loss: 3.5285\n",
      "Epoch 19/20\n",
      "10000/10000 [==============================] - 12s 1ms/step - loss: 4.8606 - val_loss: 3.2647\n",
      "Epoch 20/20\n",
      "10000/10000 [==============================] - 12s 1ms/step - loss: 4.7413 - val_loss: 4.1460\n"
     ]
    },
    {
     "data": {
      "text/plain": [
       "<keras.callbacks.History at 0x2a4a0abff60>"
      ]
     },
     "execution_count": 57,
     "metadata": {},
     "output_type": "execute_result"
    }
   ],
   "source": [
    "batch_size = 10\n",
    "model1 = create_model(batch_size, 3, 'rmsprop', 'mean_absolute_percentage_error')\n",
    "\n",
    "model1.fit(x_train, y_train,\n",
    "          batch_size=batch_size, epochs=20, shuffle=True,\n",
    "          validation_data=(x_val, y_val))"
   ]
  },
  {
   "cell_type": "code",
   "execution_count": 58,
   "metadata": {},
   "outputs": [
    {
     "data": {
      "text/plain": [
       "array([[ 6.131521 ],\n",
       "       [ 1.5297997],\n",
       "       [ 5.7418137],\n",
       "       [ 8.760043 ],\n",
       "       [10.622157 ],\n",
       "       [11.715281 ],\n",
       "       [12.423816 ],\n",
       "       [13.14375  ],\n",
       "       [13.874999 ],\n",
       "       [14.6174345]], dtype=float32)"
      ]
     },
     "execution_count": 58,
     "metadata": {},
     "output_type": "execute_result"
    }
   ],
   "source": [
    "model1.predict(x_test[:10])"
   ]
  },
  {
   "cell_type": "code",
   "execution_count": 59,
   "metadata": {},
   "outputs": [
    {
     "name": "stdout",
     "output_type": "stream",
     "text": [
      "Train on 10000 samples, validate on 80 samples\n",
      "Epoch 1/20\n",
      "10000/10000 [==============================] - 8s 769us/step - loss: 3765.8371 - val_loss: 3759.9611\n",
      "Epoch 2/20\n",
      "10000/10000 [==============================] - 6s 620us/step - loss: 3477.9806 - val_loss: 3387.0220\n",
      "Epoch 3/20\n",
      "10000/10000 [==============================] - 6s 595us/step - loss: 3064.8640 - val_loss: 2898.0142\n",
      "Epoch 4/20\n",
      "10000/10000 [==============================] - 6s 601us/step - loss: 2561.8160 - val_loss: 2338.0581\n",
      "Epoch 5/20\n",
      "10000/10000 [==============================] - 6s 604us/step - loss: 2016.9601 - val_loss: 1753.5058\n",
      "Epoch 6/20\n",
      "10000/10000 [==============================] - 6s 609us/step - loss: 1472.3209 - val_loss: 1198.8327\n",
      "Epoch 7/20\n",
      "10000/10000 [==============================] - 6s 624us/step - loss: 984.9798 - val_loss: 734.4315\n",
      "Epoch 8/20\n",
      "10000/10000 [==============================] - 6s 603us/step - loss: 593.3038 - val_loss: 397.1462\n",
      "Epoch 9/20\n",
      "10000/10000 [==============================] - 6s 598us/step - loss: 320.3475 - val_loss: 197.5753\n",
      "Epoch 10/20\n",
      "10000/10000 [==============================] - 6s 618us/step - loss: 170.5528 - val_loss: 105.1269\n",
      "Epoch 11/20\n",
      "10000/10000 [==============================] - 6s 622us/step - loss: 102.6869 - val_loss: 72.8130\n",
      "Epoch 12/20\n",
      "10000/10000 [==============================] - 6s 609us/step - loss: 67.4641 - val_loss: 41.3789\n",
      "Epoch 13/20\n",
      "10000/10000 [==============================] - 6s 590us/step - loss: 46.1584 - val_loss: 33.1406\n",
      "Epoch 14/20\n",
      "10000/10000 [==============================] - 6s 591us/step - loss: 31.3979 - val_loss: 19.7772\n",
      "Epoch 15/20\n",
      "10000/10000 [==============================] - 6s 601us/step - loss: 21.0497 - val_loss: 13.4059\n",
      "Epoch 16/20\n",
      "10000/10000 [==============================] - 7s 660us/step - loss: 14.1527 - val_loss: 10.4396\n",
      "Epoch 17/20\n",
      "10000/10000 [==============================] - 6s 609us/step - loss: 9.9005 - val_loss: 6.7445\n",
      "Epoch 18/20\n",
      "10000/10000 [==============================] - 6s 596us/step - loss: 7.0621 - val_loss: 5.8497\n",
      "Epoch 19/20\n",
      "10000/10000 [==============================] - 6s 602us/step - loss: 5.3800 - val_loss: 4.1658\n",
      "Epoch 20/20\n",
      "10000/10000 [==============================] - 6s 602us/step - loss: 4.2063 - val_loss: 2.6874\n"
     ]
    },
    {
     "data": {
      "text/plain": [
       "<keras.callbacks.History at 0x2a4a248af28>"
      ]
     },
     "execution_count": 59,
     "metadata": {},
     "output_type": "execute_result"
    }
   ],
   "source": [
    "batch_size = 20\n",
    "model1 = create_model(batch_size, 3, 'rmsprop', 'mean_squared_error')\n",
    "\n",
    "model1.fit(x_train, y_train,\n",
    "          batch_size=batch_size, epochs=20, shuffle=True,\n",
    "          validation_data=(x_val, y_val))"
   ]
  },
  {
   "cell_type": "code",
   "execution_count": 60,
   "metadata": {},
   "outputs": [
    {
     "data": {
      "text/plain": [
       "array([[10.411889],\n",
       "       [ 6.500748],\n",
       "       [ 8.18046 ],\n",
       "       [10.095548],\n",
       "       [11.7875  ],\n",
       "       [13.007392],\n",
       "       [14.19679 ],\n",
       "       [15.080066],\n",
       "       [15.90831 ],\n",
       "       [16.74871 ],\n",
       "       [17.44182 ],\n",
       "       [18.131783],\n",
       "       [18.833862],\n",
       "       [19.547955],\n",
       "       [20.273989],\n",
       "       [21.011871],\n",
       "       [21.761494],\n",
       "       [22.522728],\n",
       "       [23.295464],\n",
       "       [24.07959 ]], dtype=float32)"
      ]
     },
     "execution_count": 60,
     "metadata": {},
     "output_type": "execute_result"
    }
   ],
   "source": [
    "model1.predict(x_test)"
   ]
  },
  {
   "cell_type": "code",
   "execution_count": 61,
   "metadata": {},
   "outputs": [
    {
     "name": "stdout",
     "output_type": "stream",
     "text": [
      "Train on 10000 samples, validate on 80 samples\n",
      "Epoch 1/20\n",
      "10000/10000 [==============================] - 7s 712us/step - loss: 3749.1491 - val_loss: 3726.3110\n",
      "Epoch 2/20\n",
      "10000/10000 [==============================] - 6s 593us/step - loss: 3432.8285 - val_loss: 3326.6652\n",
      "Epoch 3/20\n",
      "10000/10000 [==============================] - 6s 611us/step - loss: 2997.9904 - val_loss: 2817.3040\n",
      "Epoch 4/20\n",
      "10000/10000 [==============================] - 7s 652us/step - loss: 2480.6929 - val_loss: 2246.9276\n",
      "Epoch 5/20\n",
      "10000/10000 [==============================] - 6s 606us/step - loss: 1940.4783 - val_loss: 1676.9810\n",
      "Epoch 6/20\n",
      "10000/10000 [==============================] - 6s 594us/step - loss: 1441.9607 - val_loss: 1181.5224\n",
      "Epoch 7/20\n",
      "10000/10000 [==============================] - 6s 609us/step - loss: 1065.8932 - val_loss: 845.3519\n",
      "Epoch 8/20\n",
      "10000/10000 [==============================] - 6s 609us/step - loss: 876.4664 - val_loss: 719.1664\n",
      "Epoch 9/20\n",
      "10000/10000 [==============================] - 6s 618us/step - loss: 842.2682 - val_loss: 704.1592\n",
      "Epoch 10/20\n",
      "10000/10000 [==============================] - 6s 611us/step - loss: 840.6673 - val_loss: 703.0485\n",
      "Epoch 11/20\n",
      "10000/10000 [==============================] - 6s 610us/step - loss: 840.6379 - val_loss: 701.7758\n",
      "Epoch 12/20\n",
      "10000/10000 [==============================] - 6s 608us/step - loss: 840.6136 - val_loss: 702.5694\n",
      "Epoch 13/20\n",
      "10000/10000 [==============================] - 6s 607us/step - loss: 840.5556 - val_loss: 704.1420\n",
      "Epoch 14/20\n",
      "10000/10000 [==============================] - 6s 621us/step - loss: 840.6184 - val_loss: 701.8716\n",
      "Epoch 15/20\n",
      "10000/10000 [==============================] - 6s 617us/step - loss: 840.6493 - val_loss: 702.3994\n",
      "Epoch 16/20\n",
      "10000/10000 [==============================] - 6s 613us/step - loss: 840.5492 - val_loss: 704.2357\n",
      "Epoch 17/20\n",
      "10000/10000 [==============================] - 6s 607us/step - loss: 840.6627 - val_loss: 702.1576\n",
      "Epoch 18/20\n",
      "10000/10000 [==============================] - 6s 619us/step - loss: 840.6473 - val_loss: 702.0529\n",
      "Epoch 19/20\n",
      "10000/10000 [==============================] - 6s 629us/step - loss: 840.6500 - val_loss: 702.2588\n",
      "Epoch 20/20\n",
      "10000/10000 [==============================] - 6s 646us/step - loss: 840.6394 - val_loss: 702.9569\n"
     ]
    },
    {
     "data": {
      "text/plain": [
       "<keras.callbacks.History at 0x2a4a3df70b8>"
      ]
     },
     "execution_count": 61,
     "metadata": {},
     "output_type": "execute_result"
    }
   ],
   "source": [
    "batch_size = 20\n",
    "model1 = create_model(batch_size, 5, 'rmsprop', 'mean_squared_error')\n",
    "\n",
    "model1.fit(x_train, y_train,\n",
    "          batch_size=batch_size, epochs=20, shuffle=True,\n",
    "          validation_data=(x_val, y_val))"
   ]
  },
  {
   "cell_type": "code",
   "execution_count": 62,
   "metadata": {},
   "outputs": [
    {
     "name": "stdout",
     "output_type": "stream",
     "text": [
      "Train on 10000 samples, validate on 80 samples\n",
      "Epoch 1/20\n",
      "10000/10000 [==============================] - 8s 767us/step - loss: 3443.8512 - val_loss: 2908.6015\n",
      "Epoch 2/20\n",
      "10000/10000 [==============================] - 6s 616us/step - loss: 2340.4714 - val_loss: 1882.8275\n",
      "Epoch 3/20\n",
      "10000/10000 [==============================] - 6s 634us/step - loss: 1436.0368 - val_loss: 1039.9818\n",
      "Epoch 4/20\n",
      "10000/10000 [==============================] - 6s 631us/step - loss: 771.1772 - val_loss: 505.6567\n",
      "Epoch 5/20\n",
      "10000/10000 [==============================] - 7s 652us/step - loss: 371.7357 - val_loss: 226.2373\n",
      "Epoch 6/20\n",
      "10000/10000 [==============================] - 6s 644us/step - loss: 165.5306 - val_loss: 96.7724\n",
      "Epoch 7/20\n",
      "10000/10000 [==============================] - 6s 632us/step - loss: 70.5214 - val_loss: 39.3584\n",
      "Epoch 8/20\n",
      "10000/10000 [==============================] - 6s 631us/step - loss: 29.8746 - val_loss: 15.8172\n",
      "Epoch 9/20\n",
      "10000/10000 [==============================] - 6s 639us/step - loss: 12.9592 - val_loss: 6.9705\n",
      "Epoch 10/20\n",
      "10000/10000 [==============================] - 6s 634us/step - loss: 5.9856 - val_loss: 3.1986\n",
      "Epoch 11/20\n",
      "10000/10000 [==============================] - 6s 638us/step - loss: 2.9680 - val_loss: 2.0814\n",
      "Epoch 12/20\n",
      "10000/10000 [==============================] - 7s 654us/step - loss: 1.6597 - val_loss: 0.9628\n",
      "Epoch 13/20\n",
      "10000/10000 [==============================] - 6s 612us/step - loss: 1.0328 - val_loss: 0.6449\n",
      "Epoch 14/20\n",
      "10000/10000 [==============================] - 6s 630us/step - loss: 0.6736 - val_loss: 0.4749\n",
      "Epoch 15/20\n",
      "10000/10000 [==============================] - 6s 640us/step - loss: 0.4729 - val_loss: 0.3467\n",
      "Epoch 16/20\n",
      "10000/10000 [==============================] - 7s 653us/step - loss: 0.3442 - val_loss: 0.4700\n",
      "Epoch 17/20\n",
      "10000/10000 [==============================] - 6s 642us/step - loss: 0.2470 - val_loss: 0.1587\n",
      "Epoch 18/20\n",
      "10000/10000 [==============================] - 6s 646us/step - loss: 0.2138 - val_loss: 0.2185\n",
      "Epoch 19/20\n",
      "10000/10000 [==============================] - 6s 629us/step - loss: 0.1690 - val_loss: 0.1248\n",
      "Epoch 20/20\n",
      "10000/10000 [==============================] - 7s 725us/step - loss: 0.1398 - val_loss: 0.0682\n"
     ]
    },
    {
     "data": {
      "text/plain": [
       "<keras.callbacks.History at 0x2a4a789ff98>"
      ]
     },
     "execution_count": 62,
     "metadata": {},
     "output_type": "execute_result"
    }
   ],
   "source": [
    "batch_size = 20\n",
    "model1 = create_model(batch_size, 5, 'adam', 'mean_squared_error')\n",
    "\n",
    "model1.fit(x_train, y_train,\n",
    "          batch_size=batch_size, epochs=20, shuffle=True,\n",
    "          validation_data=(x_val, y_val))"
   ]
  },
  {
   "cell_type": "code",
   "execution_count": 63,
   "metadata": {},
   "outputs": [
    {
     "data": {
      "text/plain": [
       "array([[ 5.8057785],\n",
       "       [ 6.229392 ],\n",
       "       [ 6.9510884],\n",
       "       [ 7.7992773],\n",
       "       [ 8.747124 ],\n",
       "       [ 9.764968 ],\n",
       "       [10.823353 ],\n",
       "       [11.8959465],\n",
       "       [12.967245 ],\n",
       "       [14.343191 ],\n",
       "       [15.364664 ],\n",
       "       [16.332373 ],\n",
       "       [17.292048 ],\n",
       "       [18.24866  ],\n",
       "       [19.206987 ],\n",
       "       [20.16764  ],\n",
       "       [21.130926 ],\n",
       "       [22.096886 ],\n",
       "       [23.065252 ],\n",
       "       [24.035507 ]], dtype=float32)"
      ]
     },
     "execution_count": 63,
     "metadata": {},
     "output_type": "execute_result"
    }
   ],
   "source": [
    "model1.predict(x_test)"
   ]
  },
  {
   "cell_type": "code",
   "execution_count": 64,
   "metadata": {},
   "outputs": [
    {
     "name": "stdout",
     "output_type": "stream",
     "text": [
      "Train on 10000 samples, validate on 80 samples\n",
      "Epoch 1/20\n",
      "10000/10000 [==============================] - 9s 887us/step - loss: 3732.9408 - val_loss: 3656.6407\n",
      "Epoch 2/20\n",
      "10000/10000 [==============================] - 7s 736us/step - loss: 3268.5776 - val_loss: 3039.2592\n",
      "Epoch 3/20\n",
      "10000/10000 [==============================] - 7s 739us/step - loss: 2617.8923 - val_loss: 2319.1926\n",
      "Epoch 4/20\n",
      "10000/10000 [==============================] - 7s 662us/step - loss: 1958.9088 - val_loss: 1661.5996\n",
      "Epoch 5/20\n",
      "10000/10000 [==============================] - 6s 625us/step - loss: 1425.5089 - val_loss: 1175.8806\n",
      "Epoch 6/20\n",
      "10000/10000 [==============================] - 6s 635us/step - loss: 1082.3281 - val_loss: 890.0601\n",
      "Epoch 7/20\n",
      "10000/10000 [==============================] - 6s 624us/step - loss: 913.9705 - val_loss: 761.9338\n",
      "Epoch 8/20\n",
      "10000/10000 [==============================] - 6s 615us/step - loss: 855.7537 - val_loss: 717.9874\n",
      "Epoch 9/20\n",
      "10000/10000 [==============================] - 6s 627us/step - loss: 842.3828 - val_loss: 705.5595\n",
      "Epoch 10/20\n",
      "10000/10000 [==============================] - 6s 647us/step - loss: 840.6975 - val_loss: 703.4815\n",
      "Epoch 11/20\n",
      "10000/10000 [==============================] - 6s 626us/step - loss: 840.6123 - val_loss: 702.3926\n",
      "Epoch 12/20\n",
      "10000/10000 [==============================] - 6s 638us/step - loss: 840.5932 - val_loss: 701.9201\n",
      "Epoch 13/20\n",
      "10000/10000 [==============================] - 6s 627us/step - loss: 840.5757 - val_loss: 702.7138\n",
      "Epoch 14/20\n",
      "10000/10000 [==============================] - 6s 635us/step - loss: 840.5922 - val_loss: 703.3609\n",
      "Epoch 15/20\n",
      "10000/10000 [==============================] - 6s 632us/step - loss: 840.6160 - val_loss: 702.2805\n",
      "Epoch 16/20\n",
      "10000/10000 [==============================] - 6s 640us/step - loss: 840.6313 - val_loss: 702.5396\n",
      "Epoch 17/20\n",
      "10000/10000 [==============================] - 6s 637us/step - loss: 840.5859 - val_loss: 702.3809\n",
      "Epoch 18/20\n",
      "10000/10000 [==============================] - 6s 640us/step - loss: 840.6009 - val_loss: 701.7368\n",
      "Epoch 19/20\n",
      "10000/10000 [==============================] - 6s 636us/step - loss: 840.6505 - val_loss: 701.8482\n",
      "Epoch 20/20\n",
      "10000/10000 [==============================] - 6s 635us/step - loss: 840.6245 - val_loss: 703.3023\n"
     ]
    },
    {
     "data": {
      "text/plain": [
       "<keras.callbacks.History at 0x2a49c08bf28>"
      ]
     },
     "execution_count": 64,
     "metadata": {},
     "output_type": "execute_result"
    }
   ],
   "source": [
    "batch_size = 20\n",
    "model1 = create_model(batch_size, 10, 'adam', 'mean_squared_error')\n",
    "\n",
    "model1.fit(x_train, y_train,\n",
    "          batch_size=batch_size, epochs=20, shuffle=True,\n",
    "          validation_data=(x_val, y_val))"
   ]
  },
  {
   "cell_type": "code",
   "execution_count": 65,
   "metadata": {},
   "outputs": [
    {
     "name": "stdout",
     "output_type": "stream",
     "text": [
      "Train on 10000 samples, validate on 80 samples\n",
      "Epoch 1/20\n",
      "10000/10000 [==============================] - 8s 790us/step - loss: 3737.4069 - val_loss: 3664.2297\n",
      "Epoch 2/20\n",
      "10000/10000 [==============================] - 6s 616us/step - loss: 3022.2925 - val_loss: 2302.5234\n",
      "Epoch 3/20\n",
      "10000/10000 [==============================] - 6s 618us/step - loss: 1712.9248 - val_loss: 1227.9031\n",
      "Epoch 4/20\n",
      "10000/10000 [==============================] - 6s 629us/step - loss: 894.7492 - val_loss: 583.3317\n",
      "Epoch 5/20\n",
      "10000/10000 [==============================] - 7s 651us/step - loss: 423.6468 - val_loss: 256.2576\n",
      "Epoch 6/20\n",
      "10000/10000 [==============================] - 6s 632us/step - loss: 186.0396 - val_loss: 107.6777\n",
      "Epoch 7/20\n",
      "10000/10000 [==============================] - 6s 631us/step - loss: 78.8239 - val_loss: 44.0609\n",
      "Epoch 8/20\n",
      "10000/10000 [==============================] - 6s 626us/step - loss: 33.6577 - val_loss: 18.3377\n",
      "Epoch 9/20\n",
      "10000/10000 [==============================] - 6s 644us/step - loss: 15.0692 - val_loss: 8.3249\n",
      "Epoch 10/20\n",
      "10000/10000 [==============================] - 6s 631us/step - loss: 7.3538 - val_loss: 4.2426\n",
      "Epoch 11/20\n",
      "10000/10000 [==============================] - 6s 620us/step - loss: 3.9430 - val_loss: 2.7718\n",
      "Epoch 12/20\n",
      "10000/10000 [==============================] - 6s 619us/step - loss: 2.3579 - val_loss: 1.5186\n",
      "Epoch 13/20\n",
      "10000/10000 [==============================] - 6s 628us/step - loss: 1.5404 - val_loss: 1.5810\n",
      "Epoch 14/20\n",
      "10000/10000 [==============================] - 6s 640us/step - loss: 1.0038 - val_loss: 0.5207\n",
      "Epoch 15/20\n",
      "10000/10000 [==============================] - 6s 649us/step - loss: 0.5859 - val_loss: 0.6422\n",
      "Epoch 16/20\n",
      "10000/10000 [==============================] - 6s 624us/step - loss: 0.4835 - val_loss: 0.2696\n",
      "Epoch 17/20\n",
      "10000/10000 [==============================] - 6s 640us/step - loss: 0.3554 - val_loss: 0.4307\n",
      "Epoch 18/20\n",
      "10000/10000 [==============================] - 6s 633us/step - loss: 0.2779 - val_loss: 0.1670\n",
      "Epoch 19/20\n",
      "10000/10000 [==============================] - 7s 651us/step - loss: 0.2128 - val_loss: 0.2319\n",
      "Epoch 20/20\n",
      "10000/10000 [==============================] - 6s 628us/step - loss: 0.2002 - val_loss: 0.2270\n"
     ]
    },
    {
     "data": {
      "text/plain": [
       "<keras.callbacks.History at 0x2a4a80d5e10>"
      ]
     },
     "execution_count": 65,
     "metadata": {},
     "output_type": "execute_result"
    }
   ],
   "source": [
    "batch_size = 20\n",
    "model1 = create_model(batch_size, 10, 'adam', 'mean_squared_error')\n",
    "\n",
    "model1.fit(x_train, y_train,\n",
    "          batch_size=batch_size, epochs=20, shuffle=True,\n",
    "          validation_data=(x_val, y_val))"
   ]
  },
  {
   "cell_type": "code",
   "execution_count": 66,
   "metadata": {},
   "outputs": [
    {
     "data": {
      "text/plain": [
       "'\\nConclusions\\n\\nAs we can see, the results are not always consistent, but in general\\nMore batches seems faster and more accurate (of course too many can also be a bad thing)\\nAdam and RMSProp seem to work fine, although Adam seemed to be slightly better (or more consistent)\\nAlso a 3 unit wide layer seemed to be enough, whereas 5 was also working ok - one unit was not as good\\n\\nMany times we had error to be ~700 which I guess is guessing the same number that is \\nminimizing the squared error for the validation data - a local minimum\\n'"
      ]
     },
     "execution_count": 66,
     "metadata": {},
     "output_type": "execute_result"
    }
   ],
   "source": [
    "\"\"\"\n",
    "Conclusions\n",
    "\n",
    "As we can see, the results are not always consistent, but in general\n",
    "More batches seems faster and more accurate (of course too many can also be a bad thing)\n",
    "Adam and RMSProp seem to work fine, although Adam seemed to be slightly better (or more consistent)\n",
    "Also a 3 unit wide layer seemed to be enough, whereas 5 was also working ok - one unit was not as good\n",
    "\n",
    "Many times we had error to be ~700 which I guess is guessing the same number that is \n",
    "minimizing the squared error for the validation data - a local minimum\n",
    "\"\"\""
   ]
  },
  {
   "cell_type": "code",
   "execution_count": null,
   "metadata": {},
   "outputs": [],
   "source": []
  }
 ],
 "metadata": {
  "kernelspec": {
   "display_name": "Python 3",
   "language": "python",
   "name": "python3"
  },
  "language_info": {
   "codemirror_mode": {
    "name": "ipython",
    "version": 3
   },
   "file_extension": ".py",
   "mimetype": "text/x-python",
   "name": "python",
   "nbconvert_exporter": "python",
   "pygments_lexer": "ipython3",
   "version": "3.6.0"
  }
 },
 "nbformat": 4,
 "nbformat_minor": 2
}
